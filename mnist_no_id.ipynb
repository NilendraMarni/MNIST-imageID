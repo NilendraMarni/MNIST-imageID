{
  "nbformat": 4,
  "nbformat_minor": 0,
  "metadata": {
    "colab": {
      "name": "mnist_no_id.ipynb",
      "provenance": []
    },
    "kernelspec": {
      "name": "python3",
      "display_name": "Python 3"
    }
  },
  "cells": [
    {
      "cell_type": "code",
      "metadata": {
        "id": "9xQLMJPSfx9t",
        "colab_type": "code",
        "colab": {}
      },
      "source": [
        "import tensorflow as tf\n",
        "data=tf.keras.datasets.mnist\n",
        "(x_train, y_train), (x_test, y_test) = data.load_data() "
      ],
      "execution_count": 0,
      "outputs": []
    },
    {
      "cell_type": "code",
      "metadata": {
        "id": "GFK4SKOoh084",
        "colab_type": "code",
        "colab": {
          "base_uri": "https://localhost:8080/",
          "height": 302
        },
        "outputId": "2024be95-429f-4e33-b0c9-8b5d752c93ce"
      },
      "source": [
        "import matplotlib.pyplot as plt\n",
        "%matplotlib inline\n",
        "image_index = 8000\n",
        "print(y_train[image_index])\n",
        "plt.imshow(x_train[image_index], cmap='Greys')"
      ],
      "execution_count": 19,
      "outputs": [
        {
          "output_type": "stream",
          "text": [
            "0\n"
          ],
          "name": "stdout"
        },
        {
          "output_type": "execute_result",
          "data": {
            "text/plain": [
              "<matplotlib.image.AxesImage at 0x7f880a64cdd8>"
            ]
          },
          "metadata": {
            "tags": []
          },
          "execution_count": 19
        },
        {
          "output_type": "display_data",
          "data": {
            "image/png": "[encoded data removed]",
            "text/plain": [
              "<Figure size 432x288 with 1 Axes>"
            ]
          },
          "metadata": {
            "tags": []
          }
        }
      ]
    },
    {
      "cell_type": "code",
      "metadata": {
        "id": "LJ4CIaQNn2DW",
        "colab_type": "code",
        "colab": {
          "base_uri": "https://localhost:8080/",
          "height": 36
        },
        "outputId": "cbdd620f-a438-465f-ef97-2118ee212a61"
      },
      "source": [
        "x_train.shape"
      ],
      "execution_count": 26,
      "outputs": [
        {
          "output_type": "execute_result",
          "data": {
            "text/plain": [
              "(60000, 28, 28)"
            ]
          },
          "metadata": {
            "tags": []
          },
          "execution_count": 26
        }
      ]
    },
    {
      "cell_type": "code",
      "metadata": {
        "id": "w4t0OQK-oYtw",
        "colab_type": "code",
        "colab": {
          "base_uri": "https://localhost:8080/",
          "height": 73
        },
        "outputId": "c1503c35-79a5-49cc-df7a-f8fd515b99f3"
      },
      "source": [
        "x_train = x_train.reshape(x_train.shape[0], 28, 28, 1)\n",
        "x_test = x_test.reshape(x_test.shape[0], 28, 28, 1)\n",
        "input_shape = (28, 28, 1)\n",
        "x_train = x_train.astype('float32')\n",
        "x_test = x_test.astype('float32')\n",
        "x_train /= 255\n",
        "x_test /= 255\n",
        "print('x_train shape:', x_train.shape)\n",
        "print('Number of images in x_train', x_train.shape[0])\n",
        "print('Number of images in x_test', x_test.shape[0])"
      ],
      "execution_count": 29,
      "outputs": [
        {
          "output_type": "stream",
          "text": [
            "x_train shape: (60000, 28, 28, 1)\n",
            "Number of images in x_train 60000\n",
            "Number of images in x_test 10000\n"
          ],
          "name": "stdout"
        }
      ]
    },
    {
      "cell_type": "code",
      "metadata": {
        "id": "J2IWAi4oj_PH",
        "colab_type": "code",
        "colab": {
          "base_uri": "https://localhost:8080/",
          "height": 1000
        },
        "outputId": "f18e7639-f12b-402f-927a-335af13ea60d"
      },
      "source": [
        "from keras.models import Sequential\n",
        "from keras.layers import Dense, Conv2D, Dropout, Flatten, MaxPooling2D\n",
        "model = Sequential()\n",
        "model.add(Conv2D(28, kernel_size=(3,3), input_shape=input_shape))\n",
        "model.add(MaxPooling2D(pool_size=(2, 2)))\n",
        "model.add(Flatten())\n",
        "model.add(Dense(128, activation=tf.nn.relu))\n",
        "model.add(Dropout(0.2))\n",
        "model.add(Dense(10,activation=tf.nn.softmax))\n",
        "model.compile(optimizer='adam', \n",
        "              loss='sparse_categorical_crossentropy', \n",
        "              metrics=['accuracy'])\n",
        "model.fit(x=x_train,y=y_train, epochs=30)"
      ],
      "execution_count": 38,
      "outputs": [
        {
          "output_type": "stream",
          "text": [
            "Epoch 1/30\n",
            "60000/60000 [==============================] - 40s 662us/step - loss: 0.5788 - acc: 0.8262\n",
            "Epoch 2/30\n",
            "60000/60000 [==============================] - 39s 645us/step - loss: 0.2257 - acc: 0.9323\n",
            "Epoch 3/30\n",
            "60000/60000 [==============================] - 39s 656us/step - loss: 0.1655 - acc: 0.9506\n",
            "Epoch 4/30\n",
            "60000/60000 [==============================] - 39s 646us/step - loss: 0.1353 - acc: 0.9594\n",
            "Epoch 5/30\n",
            "60000/60000 [==============================] - 39s 648us/step - loss: 0.1150 - acc: 0.9651\n",
            "Epoch 6/30\n",
            "60000/60000 [==============================] - 39s 657us/step - loss: 0.1009 - acc: 0.9693\n",
            "Epoch 7/30\n",
            "60000/60000 [==============================] - 40s 663us/step - loss: 0.0912 - acc: 0.9723\n",
            "Epoch 8/30\n",
            "60000/60000 [==============================] - 41s 680us/step - loss: 0.0840 - acc: 0.9742\n",
            "Epoch 9/30\n",
            "60000/60000 [==============================] - 41s 679us/step - loss: 0.0777 - acc: 0.9758\n",
            "Epoch 10/30\n",
            "60000/60000 [==============================] - 41s 676us/step - loss: 0.0709 - acc: 0.9775\n",
            "Epoch 11/30\n",
            "60000/60000 [==============================] - 41s 676us/step - loss: 0.0672 - acc: 0.9788\n",
            "Epoch 12/30\n",
            "60000/60000 [==============================] - 41s 675us/step - loss: 0.0635 - acc: 0.9798\n",
            "Epoch 13/30\n",
            "60000/60000 [==============================] - 40s 667us/step - loss: 0.0600 - acc: 0.9808\n",
            "Epoch 14/30\n",
            "60000/60000 [==============================] - 41s 677us/step - loss: 0.0560 - acc: 0.9823\n",
            "Epoch 15/30\n",
            "60000/60000 [==============================] - 42s 693us/step - loss: 0.0545 - acc: 0.9821\n",
            "Epoch 16/30\n",
            "60000/60000 [==============================] - 41s 684us/step - loss: 0.0502 - acc: 0.9837\n",
            "Epoch 17/30\n",
            "60000/60000 [==============================] - 40s 669us/step - loss: 0.0467 - acc: 0.9852\n",
            "Epoch 18/30\n",
            "60000/60000 [==============================] - 40s 672us/step - loss: 0.0449 - acc: 0.9852\n",
            "Epoch 19/30\n",
            "60000/60000 [==============================] - 41s 676us/step - loss: 0.0436 - acc: 0.9854\n",
            "Epoch 20/30\n",
            "60000/60000 [==============================] - 40s 669us/step - loss: 0.0422 - acc: 0.9859\n",
            "Epoch 21/30\n",
            "60000/60000 [==============================] - 40s 665us/step - loss: 0.0400 - acc: 0.9865\n",
            "Epoch 22/30\n",
            "60000/60000 [==============================] - 40s 671us/step - loss: 0.0384 - acc: 0.9870\n",
            "Epoch 23/30\n",
            "60000/60000 [==============================] - 40s 662us/step - loss: 0.0366 - acc: 0.9876\n",
            "Epoch 24/30\n",
            "60000/60000 [==============================] - 40s 675us/step - loss: 0.0363 - acc: 0.9879\n",
            "Epoch 25/30\n",
            "60000/60000 [==============================] - 40s 668us/step - loss: 0.0334 - acc: 0.9889\n",
            "Epoch 26/30\n",
            "60000/60000 [==============================] - 40s 674us/step - loss: 0.0335 - acc: 0.9883\n",
            "Epoch 27/30\n",
            "60000/60000 [==============================] - 40s 675us/step - loss: 0.0315 - acc: 0.9892\n",
            "Epoch 28/30\n",
            "60000/60000 [==============================] - 40s 668us/step - loss: 0.0303 - acc: 0.9898\n",
            "Epoch 29/30\n",
            "60000/60000 [==============================] - 40s 662us/step - loss: 0.0316 - acc: 0.9894\n",
            "Epoch 30/30\n",
            "60000/60000 [==============================] - 40s 673us/step - loss: 0.0291 - acc: 0.9905\n"
          ],
          "name": "stdout"
        },
        {
          "output_type": "execute_result",
          "data": {
            "text/plain": [
              "<keras.callbacks.History at 0x7f8809a3a208>"
            ]
          },
          "metadata": {
            "tags": []
          },
          "execution_count": 38
        }
      ]
    },
    {
      "cell_type": "code",
      "metadata": {
        "id": "WpKS8zZrpN7R",
        "colab_type": "code",
        "colab": {
          "base_uri": "https://localhost:8080/",
          "height": 54
        },
        "outputId": "c2ce488d-6904-44c9-c2f3-dcc62d66db6b"
      },
      "source": [
        "model.evaluate(x_test, y_test)"
      ],
      "execution_count": 41,
      "outputs": [
        {
          "output_type": "stream",
          "text": [
            "10000/10000 [==============================] - 2s 208us/step\n"
          ],
          "name": "stdout"
        },
        {
          "output_type": "execute_result",
          "data": {
            "text/plain": [
              "[0.05642137635567779, 0.9843]"
            ]
          },
          "metadata": {
            "tags": []
          },
          "execution_count": 41
        }
      ]
    },
    {
      "cell_type": "code",
      "metadata": {
        "id": "gvJZxHq6M0JO",
        "colab_type": "code",
        "colab": {
          "base_uri": "https://localhost:8080/",
          "height": 284
        },
        "outputId": "52e6d374-bd19-4b01-bed9-f96c7f2a61a1"
      },
      "source": [
        "image_index = 9999\n",
        "plt.imshow(x_test[image_index].reshape(28, 28),cmap='Greys')\n",
        "pred = model.predict(x_test[image_index].reshape(1,28,28, 1))\n",
        "print(pred.argmax())"
      ],
      "execution_count": 48,
      "outputs": [
        {
          "output_type": "stream",
          "text": [
            "6\n"
          ],
          "name": "stdout"
        },
        {
          "output_type": "display_data",
          "data": {
            "image/png": "[encoded data removed]",
            "text/plain": [
              "<Figure size 432x288 with 1 Axes>"
            ]
          },
          "metadata": {
            "tags": []
          }
        }
      ]
    }
  ]
}